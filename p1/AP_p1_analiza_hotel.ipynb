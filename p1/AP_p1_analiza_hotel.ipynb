{
 "cells": [
  {
   "cell_type": "markdown",
   "metadata": {},
   "source": [
    "# Analizy Przestrzenne 2022Z\n",
    "# Projekt 1: Wskazanie optymalnej lokalizacji inwestycji hotelowej – analizy wielokryterialne\n",
    "dane wejściowe: \n",
    "* BDOT caly\n",
    "* NMT sklejony dla gminy\n",
    "* gazociag\n",
    "* dane glebowo-rolnicze (gleby)\n",
    "* granice gminy\n",
    "* działki\n",
    "\n",
    "dane wyjściowe:\n",
    "* TBA"
   ]
  },
  {
   "cell_type": "markdown",
   "metadata": {},
   "source": [
    "# Import bibliotek, ustawienie środowiska, ustawienie ścieżek do warstw"
   ]
  },
  {
   "cell_type": "code",
   "execution_count": 1,
   "metadata": {},
   "outputs": [],
   "source": [
    "import sys\n",
    "import arcpy\n",
    "import os\n",
    "import math"
   ]
  },
  {
   "cell_type": "code",
   "execution_count": 2,
   "metadata": {},
   "outputs": [
    {
     "data": {
      "text/plain": [
       "'CheckedOut'"
      ]
     },
     "execution_count": 2,
     "metadata": {},
     "output_type": "execute_result"
    }
   ],
   "source": [
    "# sprawdzanie rozszerzeń\n",
    "# https://pro.arcgis.com/en/pro-app/latest/arcpy/functions/checkextension.htm\n",
    "arcpy.CheckOutExtension(\"Spatial\")\n",
    "arcpy.CheckOutExtension(\"3D\")"
   ]
  },
  {
   "cell_type": "code",
   "execution_count": 3,
   "metadata": {},
   "outputs": [],
   "source": [
    "# nadpisywanie plików - nie działa, bo ESRI...\n",
    "arcpy.env.overwriteOutput = True\n",
    "arcpy.env.addOutputsToMap = True"
   ]
  },
  {
   "cell_type": "code",
   "execution_count": 4,
   "metadata": {},
   "outputs": [],
   "source": [
    "nazwa_gminy = \"Świeradów-Zdrój\"  # useless\n",
    "\n",
    "\n",
    "#------------------------ ŚWIERADÓW --------------------------#\n",
    "# # workspace_path = r\"E:\\DANE\\AF\\311512\\arcgis_testy\\MyProject1\\MyProject1.gdb\"  # gdb\n",
    "# # folder_bdot = r\"E:\\DANE\\AF\\311512\\arcgis_testy\\MyProject1\\DANE\\bdot_caly\"\n",
    "# # path_nmt = r\"E:\\DANE\\AF\\311512\\arcgis_testy\\MyProject1\\DANE\\nmt_gminy\\nmt_swieradow.tif\"\n",
    "# # path_gazociag = r\"E:\\DANE\\AF\\311512\\arcgis_testy\\MyProject1\\DANE\\gazociag\\gazociag.shp\"\n",
    "# # path_gleby = r\"E:\\DANE\\AF\\311512\\arcgis_testy\\MyProject1\\DANE\\gleby\\gleby_gm_swieradow.shp\"\n",
    "# # path_granice_gminy = r\"E:\\DANE\\AF\\311512\\arcgis_testy\\MyProject1\\DANE\\granice_gminy\\gmina_swieradow.gpkg\\main.gmina_swieradow\"\n",
    "# # path_dzialki = r\"E:\\DANE\\AF\\311512\\arcgis_testy\\MyProject1\\DANE\\dzialki_gminy_egib\\dzialki_egib.gpkg\"\n",
    "\n",
    "#------------------------ ŚWIERADÓW --------------------------#\n",
    "workspace_path = r\"C:\\SEM5\\AP\\p1\\analiza_hotele\\analiza_hotele.gdb\"  # gdb\n",
    "folder_bdot = r\"C:\\SEM5\\AP\\p1\\DANE\\bdot_caly\"\n",
    "path_nmt = r\"C:\\SEM5\\AP\\p1\\DANE\\nmt_gminy\\nmt_swieradow.tif\"\n",
    "path_gazociag = r\"C:\\SEM5\\AP\\p1\\DANE\\gazociag\\gazociag.shp\"\n",
    "path_gleby = r\"C:\\SEM5\\AP\\p1\\DANE\\gleby\\gleby_gm_swieradow.shp\"\n",
    "path_granice_gminy = r\"C:\\SEM5\\AP\\p1\\DANE\\granice_gminy\\gmina_swieradow.gpkg\\main.gmina_swieradow\"\n",
    "path_dzialki = r\"C:\\SEM5\\AP\\p1\\DANE\\dzialki_gminy_egib\\dzialki_egib.shp\"  # r\"C:\\SEM5\\AP\\p1\\DANE\\dzialki_gminy_egib\\dzialki_egib.gpkg\"\n",
    "bufor_gminy = arcpy.analysis.Buffer(path_granice_gminy, \"bufor_gminy\", 100)\n",
    "\n",
    "\n",
    "#------------------------ KONTROLA PLEŚNA --------------------------#\n",
    "# workspace_path = r\"C:\\SEM5\\AP\\p1\\analiza_hotele\\analiza_hotele_kontrola.gdb\"\n",
    "# # folder_bdot = r\"C:\\SEM5\\AP\\p1\\DANE_kontrola\\bdot_caly\"  # dziwny (stary?) bdot, bez potrzebnych atrybutów jak FUNSZCZ w BUBDA\n",
    "# folder_bdot = r\"C:\\SEM5\\AP\\p1\\TODELETE\"  # dobry BDOT aktualny powiatowy\n",
    "# path_nmt = r\"C:\\SEM5\\AP\\p1\\DANE_kontrola\\nmt_gminy\\nmt_lpis_plesna_1992.tif\"\n",
    "# path_gazociag = r\"C:\\SEM5\\AP\\p1\\DANE_kontrola\\gazociag\\gazociag.shp\"\n",
    "# path_gleby = r\"C:\\SEM5\\AP\\p1\\DANE_kontrola\\gleby\\mapa_25000_Plesna.shp\"\n",
    "# path_granice_gminy = r\"C:\\SEM5\\AP\\p1\\DANE_kontrola\\granice_gminy\\gmina_plesna.shp\"\n",
    "# path_dzialki = r\"C:\\SEM5\\AP\\p1\\DANE_kontrola\\dzialki_gminy_egib\\dzialki_Plesna.shp\"\n",
    "# bufor_gminy = arcpy.analysis.Buffer(path_granice_gminy, \"bufor_gminy\", 100)\n"
   ]
  },
  {
   "cell_type": "code",
   "execution_count": 5,
   "metadata": {},
   "outputs": [],
   "source": [
    "# ustawienia środowiska pracy\n",
    "# data paths\n",
    "arcpy.env.workspace = workspace_path  # geodatabase\n",
    "# processing extent\n",
    "arcpy.env.extent = str(bufor_gminy)  # path to bufor_gminy\n",
    "# output coordinate system\n",
    "arcpy.env.outputCoordinateSystem = arcpy.SpatialReference(\"ETRS 1989 Poland CS92\")\n",
    "# cell size\n",
    "arcpy.env.cellSize = 1\n",
    "# nadpisywanie plików\n",
    "arcpy.env.overwriteOutput = True"
   ]
  },
  {
   "cell_type": "markdown",
   "metadata": {
    "heading_collapsed": true
   },
   "source": [
    "# Ogarnięcie nazw plików z folderu BDOT i zapisanie potrzebnych ścieżek"
   ]
  },
  {
   "cell_type": "code",
   "execution_count": 6,
   "metadata": {
    "hidden": true,
    "scrolled": true
   },
   "outputs": [],
   "source": [
    "# Pozbycie się kropek z nazw plików w folderze bdot_caly\n",
    "\n",
    "bdot = dict()\n",
    "names = {'budynki':'bubd_a', 'drogi':'skdr_l', 'rzeki':'swrs_l', 'jeziora':'ptwp_a', 'lasy':'ptlz_a'}\n",
    "extensions = ('.shp', '.prj', '.xlsx', '.dbf', '.shx', '.cpg')\n",
    "for filename in os.listdir(folder_bdot):\n",
    "    if os.path.isfile(os.path.join(folder_bdot, filename)):\n",
    "        src = rf\"{folder_bdot}\\{filename}\"\n",
    "        if src.endswith(extensions):\n",
    "            if src.count('.') == 4:\n",
    "                for k, v in names.items():\n",
    "                    if v in filename.lower():\n",
    "                        dst = src.replace('.', '', 3)\n",
    "                        os.rename(src, dst)\n",
    "                        if src.endswith('.shp'):\n",
    "                            bdot[k] = dst\n",
    "                if 'PT' in src:\n",
    "                    dst = src.replace('.', '', 3)\n",
    "                    try:\n",
    "                        os.rename(src, dst)\n",
    "                    except FileNotFoundError:\n",
    "                        pass"
   ]
  },
  {
   "cell_type": "code",
   "execution_count": 7,
   "metadata": {
    "hidden": true
   },
   "outputs": [],
   "source": [
    "# Kreacja słownika bdot jesli juz mamy dobre nazwy warstw\n",
    "\n",
    "bdot = dict()\n",
    "names = {'budynki':'bubd_a', 'drogi':'skdr_l', 'rzeki':'swrs_l', 'jeziora':'ptwp_a', 'lasy':'ptlz_a'}\n",
    "extensions = ('.shp', '.prj', '.xlsx', '.dbf', '.shx', '.cpg')\n",
    "for filename in os.listdir(folder_bdot):\n",
    "    if os.path.isfile(os.path.join(folder_bdot, filename)):\n",
    "        src = rf\"{folder_bdot}\\{filename}\"\n",
    "        if src.endswith(extensions):\n",
    "            if src.count('.') == 1:\n",
    "                for key, name in names.items():\n",
    "                    if name in filename.lower() and src.endswith('.shp'):\n",
    "                        bdot[key] = src"
   ]
  },
  {
   "cell_type": "code",
   "execution_count": 8,
   "metadata": {
    "hidden": true
   },
   "outputs": [
    {
     "data": {
      "text/plain": [
       "{'budynki': 'C:\\\\SEM5\\\\AP\\\\p1\\\\DANE\\\\bdot_caly\\\\PLPZGiK3370210__OT_BUBD_A.shp', 'lasy': 'C:\\\\SEM5\\\\AP\\\\p1\\\\DANE\\\\bdot_caly\\\\PLPZGiK3370210__OT_PTLZ_A.shp', 'jeziora': 'C:\\\\SEM5\\\\AP\\\\p1\\\\DANE\\\\bdot_caly\\\\PLPZGiK3370210__OT_PTWP_A.shp', 'drogi': 'C:\\\\SEM5\\\\AP\\\\p1\\\\DANE\\\\bdot_caly\\\\PLPZGiK3370210__OT_SKDR_L.shp', 'rzeki': 'C:\\\\SEM5\\\\AP\\\\p1\\\\DANE\\\\bdot_caly\\\\PLPZGiK3370210__OT_SWRS_L.shp'}"
      ]
     },
     "execution_count": 8,
     "metadata": {},
     "output_type": "execute_result"
    }
   ],
   "source": [
    "# bdot = {'budynki': 'C:\\\\SEM5\\\\AP\\\\p1\\\\DANE\\\\bdot_caly\\\\PLPZGiK3370210__OT_BUBD_A.shp', 'lasy': 'C:\\\\SEM5\\\\AP\\\\p1\\\\DANE\\\\bdot_caly\\\\PLPZGiK3370210__OT_PTLZ_A.shp', 'jeziora': 'C:\\\\SEM5\\\\AP\\\\p1\\\\DANE\\\\bdot_caly\\\\PLPZGiK3370210__OT_PTWP_A.shp', 'drogi': 'C:\\\\SEM5\\\\AP\\\\p1\\\\DANE\\\\bdot_caly\\\\PLPZGiK3370210__OT_SKDR_L.shp', 'rzeki': 'C:\\\\SEM5\\\\AP\\\\p1\\\\DANE\\\\bdot_caly\\\\PLPZGiK3370210__OT_SWRS_L.shp'}\n",
    "bdot"
   ]
  },
  {
   "cell_type": "markdown",
   "metadata": {
    "heading_collapsed": true
   },
   "source": [
    "# Kryterium 1 - odległość od konkurencji minimum 400m"
   ]
  },
  {
   "cell_type": "code",
   "execution_count": 9,
   "metadata": {
    "hidden": true
   },
   "outputs": [],
   "source": [
    "query = \"FUNSZCZ LIKE '%hotel%' OR FUNSZCZ LIKE '%motel%' OR FUNSZCZ LIKE '%pensjonat%' OR FUNSZCZ LIKE '%domWypoczynkowy%'\"\n",
    "hotele = arcpy.analysis.Select(bdot['budynki'], \"hotele\", query)\n",
    "ed = arcpy.sa.EucDistance(hotele)\n",
    "minimum = 400 # 400\n",
    "maximum = 800 # 800\n",
    "\n",
    "k1 = arcpy.sa.FuzzyMembership(ed, arcpy.sa.FuzzyLinear(minimum, maximum))"
   ]
  },
  {
   "cell_type": "markdown",
   "metadata": {
    "heading_collapsed": true
   },
   "source": [
    "# Kryterium 2 - odległość od budynków mieszkalnych od 25 do 150m"
   ]
  },
  {
   "cell_type": "code",
   "execution_count": 10,
   "metadata": {
    "hidden": true
   },
   "outputs": [],
   "source": [
    "query = \"FUNOGBUD LIKE '%miesz%' OR FUNOGBUD LIKE '%Miesz%'\"  # 1036\n",
    "mieszkalne = arcpy.analysis.Select(bdot['budynki'], \"mieszkalne\", query)\n",
    "ed = arcpy.sa.EucDistance(mieszkalne)\n",
    "minimum = 25 # 25\n",
    "maximum = 50 # 50\n",
    "fuzzy1 = arcpy.sa.FuzzyMembership(ed, arcpy.sa.FuzzyLinear(minimum, maximum))\n",
    "minimum = 150 # 150\n",
    "maximum = 125 # 125\n",
    "fuzzy2 = arcpy.sa.FuzzyMembership(ed, arcpy.sa.FuzzyLinear(minimum, maximum))\n",
    "\n",
    "k2 = arcpy.sa.Times(fuzzy1, fuzzy2)"
   ]
  },
  {
   "cell_type": "markdown",
   "metadata": {
    "heading_collapsed": true
   },
   "source": [
    "# Kryterium 3 - odległość od istniejących dróg od 15 do 100m"
   ]
  },
  {
   "cell_type": "code",
   "execution_count": 11,
   "metadata": {
    "hidden": true
   },
   "outputs": [],
   "source": [
    "drogi = bdot['drogi']\n",
    "ed = arcpy.sa.EucDistance(drogi)\n",
    "minimum = 15 # 15\n",
    "maximum = 20 # 20\n",
    "fuzzy1 = arcpy.sa.FuzzyMembership(ed, arcpy.sa.FuzzyLinear(minimum, maximum))\n",
    "minimum = 200 # 200\n",
    "maximum = 100 # 100\n",
    "fuzzy2 = arcpy.sa.FuzzyMembership(ed, arcpy.sa.FuzzyLinear(minimum, maximum))\n",
    "\n",
    "k3 = arcpy.sa.Times(fuzzy1, fuzzy2)"
   ]
  },
  {
   "cell_type": "markdown",
   "metadata": {
    "heading_collapsed": true
   },
   "source": [
    "# Kryterium 4 - odległość od rzek i zbiorników wodnych nieprzekraczalna strefa ochronna poniżej 20m"
   ]
  },
  {
   "cell_type": "code",
   "execution_count": 12,
   "metadata": {
    "hidden": true
   },
   "outputs": [],
   "source": [
    "query = \"X_KOD='SWRS01' OR X_KOD='SWRS02'\"\n",
    "rzeki = arcpy.analysis.Select(bdot['rzeki'], 'rzeki', query)\n",
    "bufor_rzeki = arcpy.analysis.Buffer(rzeki, 'bufor_rzeki', 0.5)\n",
    "jeziora = bdot['jeziora']\n",
    "wody = arcpy.management.Merge([bufor_rzeki, jeziora], 'wody')\n",
    "ed = arcpy.sa.EucDistance(wody)\n",
    "minimum = 20 # 20\n",
    "maximum = 20.001 # 25 20.001\n",
    "fuzzy1 = arcpy.sa.FuzzyMembership(ed, arcpy.sa.FuzzyLinear(minimum, maximum))\n",
    "minimum = 1000 # 1000\n",
    "maximum = 100 # 100\n",
    "fuzzy2 = arcpy.sa.FuzzyMembership(ed, arcpy.sa.FuzzyLinear(minimum, maximum))\n",
    "\n",
    "k4 = arcpy.sa.Times(fuzzy1, fuzzy2)"
   ]
  },
  {
   "cell_type": "markdown",
   "metadata": {
    "heading_collapsed": true
   },
   "source": [
    "# Kryterium 5 - pokrycie terenu nie w lesie"
   ]
  },
  {
   "cell_type": "code",
   "execution_count": 13,
   "metadata": {
    "hidden": true
   },
   "outputs": [],
   "source": [
    "lasy_raster = arcpy.conversion.FeatureToRaster(bdot['lasy'], \"RODZAJ\", 'lasy_raster')\n",
    "\n",
    "k5 = arcpy.sa.Reclassify(lasy_raster, \"RODZAJ\", arcpy.sa.RemapValue([[\"las\", 0], [\"zadrzewienie\", 1],[\"zagajnik\", 0], [\"NODATA\", 1]]))"
   ]
  },
  {
   "cell_type": "markdown",
   "metadata": {
    "heading_collapsed": true
   },
   "source": [
    "# Kryterium 6 - nachylenie stoków maksymalnie 20%"
   ]
  },
  {
   "cell_type": "code",
   "execution_count": 14,
   "metadata": {
    "hidden": true
   },
   "outputs": [],
   "source": [
    "slope_perc = arcpy.sa.Slope(path_nmt, \"PERCENT_RISE\", 1, \"PLANAR\", \"METER\")\n",
    "minimum = 20 # 20\n",
    "maximum = 5 # 5\n",
    "\n",
    "k6 = arcpy.sa.FuzzyMembership(slope_perc, arcpy.sa.FuzzyLinear(minimum, maximum))"
   ]
  },
  {
   "cell_type": "markdown",
   "metadata": {
    "heading_collapsed": true
   },
   "source": [
    "# Kryterium 7 - dostęp światła słonecznego stoki południowe (SW-SE)"
   ]
  },
  {
   "cell_type": "code",
   "execution_count": 15,
   "metadata": {
    "hidden": true
   },
   "outputs": [],
   "source": [
    "aspect = arcpy.sa.Aspect(path_nmt)\n",
    "minimum = 110 # 110\n",
    "maximum = 155 # 155\n",
    "fuzzy1 = arcpy.sa.FuzzyMembership(aspect, arcpy.sa.FuzzyLinear(minimum, maximum))\n",
    "minimum = 250 # 250 \n",
    "maximum = 205 # 205\n",
    "fuzzy2 = arcpy.sa.FuzzyMembership(aspect, arcpy.sa.FuzzyLinear(minimum, maximum))\n",
    "\n",
    "k7_1 = arcpy.sa.Times(fuzzy1, fuzzy2)\n",
    "k7 = arcpy.sa.Con(aspect, 1, k7_1, \"VALUE = -1\")"
   ]
  },
  {
   "cell_type": "markdown",
   "metadata": {
    "heading_collapsed": true
   },
   "source": [
    "# Kryterium 8 - poza strefą ochronną gazociągu minimum 25m"
   ]
  },
  {
   "cell_type": "code",
   "execution_count": 16,
   "metadata": {
    "hidden": true
   },
   "outputs": [],
   "source": [
    "ed = arcpy.sa.EucDistance(path_gazociag)\n",
    "minimum = 25 # 25\n",
    "maximum = 25.001 # 26 25.001\n",
    "fuzzy1 = arcpy.sa.FuzzyMembership(ed, arcpy.sa.FuzzyLinear(minimum, maximum))\n",
    "minimum = 1000 # 1000\n",
    "maximum = 100  # 100\n",
    "fuzzy2 = arcpy.sa.FuzzyMembership(ed, arcpy.sa.FuzzyLinear(minimum, maximum))\n",
    "\n",
    "k8 = arcpy.sa.Times(fuzzy1, fuzzy2)"
   ]
  },
  {
   "cell_type": "markdown",
   "metadata": {
    "heading_collapsed": true
   },
   "source": [
    "# Kryterium 9 - użytkowanie terenu - przydatne gleby"
   ]
  },
  {
   "cell_type": "code",
   "execution_count": 17,
   "metadata": {
    "hidden": true
   },
   "outputs": [],
   "source": [
    "codeblock = \"\"\"\n",
    "def is_useful(string):\n",
    "    if string in ['G','E','M','T','F','Fb','Fc','FG']:\n",
    "        return \"NIE\"  # 0\n",
    "    return \"TAK\"  # 1\n",
    "\"\"\"\n",
    "expression = \"is_useful(!TYP!)\"\n",
    "field_name = \"przydatne\"\n",
    "gleby = arcpy.management.CalculateField(path_gleby, field_name, expression,\"PYTHON3\", codeblock)\n",
    "\n",
    "k9 = arcpy.conversion.FeatureToRaster(gleby, \"przydatne\", \"k9\")\n",
    "k9 = arcpy.sa.Reclassify(k9, \"przydatne\", arcpy.sa.RemapValue([[\"NIE\", 0], [\"TAK\", 1]]))"
   ]
  },
  {
   "cell_type": "markdown",
   "metadata": {
    "heading_collapsed": true
   },
   "source": [
    "# Łączenie kryteriów"
   ]
  },
  {
   "cell_type": "markdown",
   "metadata": {
    "hidden": true
   },
   "source": [
    "### Zrobienie kryteriów ostrych ze stref ochronnych wodociągu i wód"
   ]
  },
  {
   "cell_type": "code",
   "execution_count": 18,
   "metadata": {
    "hidden": true
   },
   "outputs": [],
   "source": [
    "# 2 + 2 = 4 (5) ostrych (lasy, gleby i dodatkowo strefy ochronne wód i gazociągu)\n",
    "# Weighted sum do fuzzy 7/8 k1 k2 k3 k4 k6 k7 k8\n",
    "# Fuzzy overlay do ostrych 4/5 k5 k9 k4_ostre k8_ostre\n",
    "# i potem mnozymy funkcją Times\n",
    "# lub Raster Calculator\n",
    "# dwa scenariusze - jednakowe wagi i wagi eksperckie"
   ]
  },
  {
   "cell_type": "code",
   "execution_count": 19,
   "metadata": {
    "hidden": true
   },
   "outputs": [],
   "source": [
    "ed = arcpy.sa.EucDistance(wody)\n",
    "k4_ostre = arcpy.sa.Con(ed, 1, 0, \"VALUE > 20\")"
   ]
  },
  {
   "cell_type": "code",
   "execution_count": 20,
   "metadata": {
    "hidden": true
   },
   "outputs": [],
   "source": [
    "ed = arcpy.sa.EucDistance(path_gazociag)\n",
    "k8_ostre = arcpy.sa.Con(ed, 1, 0, \"VALUE > 25\")"
   ]
  },
  {
   "cell_type": "markdown",
   "metadata": {
    "hidden": true
   },
   "source": [
    "### Scenariusz 1: wagi jednakowe"
   ]
  },
  {
   "cell_type": "code",
   "execution_count": 21,
   "metadata": {
    "hidden": true
   },
   "outputs": [],
   "source": [
    "wstable_1 = arcpy.sa.WSTable([[k1,\"VALUE\",0.1428],[k2,\"VALUE\",0.1428],[k3,\"VALUE\",0.1428],[k4,\"VALUE\",0.1428],[k6,\"VALUE\",0.1428],[k7,\"VALUE\",0.1428],[k8,\"VALUE\",0.1432]])\n",
    "joined_fuzzy_1 = arcpy.sa.WeightedSum(wstable_1)"
   ]
  },
  {
   "cell_type": "code",
   "execution_count": 22,
   "metadata": {
    "hidden": true
   },
   "outputs": [],
   "source": [
    "fo_ostre = arcpy.sa.FuzzyOverlay([k5, k9, k4_ostre, k8_ostre], \"AND\")  # \"AND\""
   ]
  },
  {
   "cell_type": "code",
   "execution_count": 23,
   "metadata": {
    "hidden": true
   },
   "outputs": [],
   "source": [
    "final_fuzzy_1 = arcpy.sa.Times(joined_fuzzy_1, fo_ostre)"
   ]
  },
  {
   "cell_type": "code",
   "execution_count": 24,
   "metadata": {
    "hidden": true
   },
   "outputs": [],
   "source": [
    "ff1_reclass = arcpy.sa.Con(final_fuzzy_1, 1, 0, \"VALUE > 0.5\")  # VALUE > 0.5"
   ]
  },
  {
   "cell_type": "markdown",
   "metadata": {
    "hidden": true
   },
   "source": [
    "### Scenariusz 2: wagi eksperckie"
   ]
  },
  {
   "cell_type": "markdown",
   "metadata": {
    "hidden": true
   },
   "source": [
    "* Kryterium 1 - ```0.2``` - odległość od konkurencji minimum 400m\n",
    "* Kryterium 2 - ```0.05``` - odległość od budynków mieszkalnych od 25 do 150m\n",
    "* Kryterium 3 - ```0.05``` - odległość od istniejących dróg od 15 do 100m\n",
    "* Kryterium 4 - ```0.2``` - odległość od rzek i zbiorników wodnych\n",
    "* Kryterium 6 - ```0.15``` - nachylenie stoków maksymalnie 20%\n",
    "* Kryterium 7 - ```0.3``` - dostęp światła słonecznego stoki południowe (SW-SE)\n",
    "* Kryterium 8 - ```0.05``` - odległość od gazociągu"
   ]
  },
  {
   "cell_type": "code",
   "execution_count": 25,
   "metadata": {
    "hidden": true
   },
   "outputs": [],
   "source": [
    "wstable_2 = arcpy.sa.WSTable([[k1,\"VALUE\",0.2],[k2,\"VALUE\",0.05],[k3,\"VALUE\",0.05],[k4,\"VALUE\",0.2],[k6,\"VALUE\",0.15],[k7,\"VALUE\",0.3],[k8,\"VALUE\",0.05]])\n",
    "joined_fuzzy_2 = arcpy.sa.WeightedSum(wstable_2)"
   ]
  },
  {
   "cell_type": "code",
   "execution_count": 26,
   "metadata": {
    "hidden": true
   },
   "outputs": [],
   "source": [
    "fo_ostre = arcpy.sa.FuzzyOverlay([k5, k9, k4_ostre, k8_ostre], \"AND\")  # \"AND\""
   ]
  },
  {
   "cell_type": "code",
   "execution_count": 27,
   "metadata": {
    "hidden": true
   },
   "outputs": [],
   "source": [
    "final_fuzzy_2 = arcpy.sa.Times(joined_fuzzy_2, fo_ostre)"
   ]
  },
  {
   "cell_type": "code",
   "execution_count": 28,
   "metadata": {
    "hidden": true
   },
   "outputs": [],
   "source": [
    "ff2_reclass = arcpy.sa.Con(final_fuzzy_2, 1, 0, \"VALUE > 0.5\")  # VALUE > 0.5"
   ]
  },
  {
   "cell_type": "markdown",
   "metadata": {
    "heading_collapsed": true
   },
   "source": [
    "# Kryterium 10 - przydatne działki obszary 1-6ha (mogą być też większe)"
   ]
  },
  {
   "cell_type": "markdown",
   "metadata": {
    "hidden": true
   },
   "source": [
    "### Scenariusz 1: wagi jednakowe"
   ]
  },
  {
   "cell_type": "code",
   "execution_count": 29,
   "metadata": {
    "hidden": true
   },
   "outputs": [],
   "source": [
    "ff1_polygons = arcpy.conversion.RasterToPolygon(\"ff1_reclass\", \"ff1_polygons\", \"NO_SIMPLIFY\", \"Value\", \"SINGLE_OUTER_PART\", None)"
   ]
  },
  {
   "cell_type": "code",
   "execution_count": 30,
   "metadata": {
    "hidden": true
   },
   "outputs": [],
   "source": [
    "query = \"gridcode = 1\"\n",
    "wybrane = arcpy.analysis.Select(ff1_polygons, \"wybrane\", query)"
   ]
  },
  {
   "cell_type": "code",
   "execution_count": 31,
   "metadata": {
    "hidden": true
   },
   "outputs": [],
   "source": [
    "ff1_stats_table = arcpy.analysis.TabulateIntersection(path_dzialki, \"ID_DZIALKI\", wybrane, \"ff1_stats_table\", None, None, None, \"UNKNOWN\")  # path_table1"
   ]
  },
  {
   "cell_type": "code",
   "execution_count": 32,
   "metadata": {
    "hidden": true
   },
   "outputs": [],
   "source": [
    "ff1_dzialki = arcpy.management.AddJoin(path_dzialki, \"ID_DZIALKI\", ff1_stats_table, \"ID_DZIALKI\", \"KEEP_COMMON\", \"NO_INDEX_JOIN_FIELDS\")"
   ]
  },
  {
   "cell_type": "code",
   "execution_count": 33,
   "metadata": {
    "hidden": true
   },
   "outputs": [],
   "source": [
    "query = \"PERCENTAGE > 70\"  # >70 \n",
    "ff1_dzialki_wybrane = arcpy.analysis.Select(ff1_dzialki, \"ff1_dzialki_wybrane\", query)"
   ]
  },
  {
   "cell_type": "code",
   "execution_count": 34,
   "metadata": {
    "hidden": true
   },
   "outputs": [],
   "source": [
    "ff1_wybrane_dissolved = arcpy.management.Dissolve(ff1_dzialki_wybrane, \"ff1_wybrane_dissolved\", None, None, \"SINGLE_PART\", \"DISSOLVE_LINES\", '')"
   ]
  },
  {
   "cell_type": "code",
   "execution_count": 35,
   "metadata": {
    "hidden": true
   },
   "outputs": [],
   "source": [
    "query = \"Shape_Area > 10000\"  # powierzchnia > 1ha\n",
    "ff1_dissolved_duze = arcpy.analysis.Select(ff1_wybrane_dissolved, \"ff1_dissolved_duze\", query)"
   ]
  },
  {
   "cell_type": "markdown",
   "metadata": {
    "hidden": true
   },
   "source": [
    "### Scenariusz 2: wagi eksperckie"
   ]
  },
  {
   "cell_type": "code",
   "execution_count": 36,
   "metadata": {
    "hidden": true
   },
   "outputs": [],
   "source": [
    "ff2_polygons = arcpy.conversion.RasterToPolygon(\"ff2_reclass\", \"ff2_polygons\", \"NO_SIMPLIFY\", \"Value\", \"SINGLE_OUTER_PART\", None)"
   ]
  },
  {
   "cell_type": "code",
   "execution_count": 37,
   "metadata": {
    "hidden": true
   },
   "outputs": [],
   "source": [
    "query = \"gridcode = 1\"\n",
    "wybrane = arcpy.analysis.Select(ff2_polygons, \"wybrane\", query)"
   ]
  },
  {
   "cell_type": "code",
   "execution_count": 38,
   "metadata": {
    "hidden": true
   },
   "outputs": [],
   "source": [
    "ff2_stats_table = arcpy.analysis.TabulateIntersection(path_dzialki, \"ID_DZIALKI\", wybrane, \"ff2_stats_table\", None, None, None, \"UNKNOWN\")  # path_table2"
   ]
  },
  {
   "cell_type": "code",
   "execution_count": 39,
   "metadata": {
    "hidden": true
   },
   "outputs": [],
   "source": [
    "ff2_dzialki = arcpy.management.AddJoin(path_dzialki, \"ID_DZIALKI\", ff2_stats_table, \"ID_DZIALKI\", \"KEEP_COMMON\", \"NO_INDEX_JOIN_FIELDS\")"
   ]
  },
  {
   "cell_type": "code",
   "execution_count": 40,
   "metadata": {
    "hidden": true
   },
   "outputs": [],
   "source": [
    "query = \"PERCENTAGE > 70\"  # >70 \n",
    "ff2_dzialki_wybrane = arcpy.analysis.Select(ff2_dzialki, \"ff2_dzialki_wybrane\", query)"
   ]
  },
  {
   "cell_type": "code",
   "execution_count": 41,
   "metadata": {
    "hidden": true
   },
   "outputs": [],
   "source": [
    "ff2_wybrane_dissolved = arcpy.management.Dissolve(ff2_dzialki_wybrane, \"ff2_wybrane_dissolved\", None, None, \"SINGLE_PART\", \"DISSOLVE_LINES\", '')"
   ]
  },
  {
   "cell_type": "code",
   "execution_count": 42,
   "metadata": {
    "hidden": true
   },
   "outputs": [],
   "source": [
    "query = \"Shape_Area > 10000\"  # powierzchnia > 1ha\n",
    "ff2_dissolved_duze = arcpy.analysis.Select(ff2_wybrane_dissolved, \"ff2_dissolved_duze\", query)"
   ]
  },
  {
   "cell_type": "markdown",
   "metadata": {
    "heading_collapsed": true
   },
   "source": [
    "# Kryterium 11 - ostateczne v1 - kształt obszaru jak najbardziej zwarty"
   ]
  },
  {
   "cell_type": "markdown",
   "metadata": {
    "hidden": true
   },
   "source": [
    "### Scenariusz 1: wagi jednakowe"
   ]
  },
  {
   "cell_type": "markdown",
   "metadata": {
    "hidden": true
   },
   "source": [
    "C (compactness) = pierwiastek z pola obiektu dzielonego przez pole koła. Promień do wzoru na pole koła należy wziąć z obwodu koła, które jest równe obwodowi obiektu."
   ]
  },
  {
   "cell_type": "code",
   "execution_count": 43,
   "metadata": {
    "hidden": true
   },
   "outputs": [],
   "source": [
    "codeblock = \"\"\"\n",
    "def compactness(pole_obiektu, obwod_obiektu):\n",
    "    # pole = pi * r**2\n",
    "    # obwod = 2*pi*r\n",
    "    r = obwod_obiektu / (2*math.pi)\n",
    "    pole_kola = math.pi * r**2\n",
    "    c = math.sqrt(pole_obiektu / pole_kola)\n",
    "    return c\n",
    "\"\"\"\n",
    "expression = \"compactness(!Shape_Area!, !Shape_Length!)\"\n",
    "field_name = \"compactness\"\n",
    "ff1_compactness = arcpy.management.CalculateField(ff1_dissolved_duze, field_name, expression, \"PYTHON3\", codeblock)"
   ]
  },
  {
   "cell_type": "code",
   "execution_count": 44,
   "metadata": {
    "hidden": true
   },
   "outputs": [
    {
     "name": "stdout",
     "output_type": "stream",
     "text": [
      "24 0,893322519992807\n"
     ]
    }
   ],
   "source": [
    "# znalezienie najbardziej zwartego obszaru \n",
    "compactness = {key:value for (key, value) in arcpy.da.SearchCursor(ff1_compactness,['OID@','compactness'])}\n",
    "max_oid, max_compactness = max(compactness.items(), key=lambda krotka: krotka[1])\n",
    "print(max_oid, max_compactness)"
   ]
  },
  {
   "cell_type": "code",
   "execution_count": 45,
   "metadata": {
    "hidden": true
   },
   "outputs": [],
   "source": [
    "query = f\"OBJECTID IN ({max_oid})\"\n",
    "ff1_best = arcpy.analysis.Select(ff1_compactness, \"ff1_best\", query)"
   ]
  },
  {
   "cell_type": "markdown",
   "metadata": {
    "hidden": true
   },
   "source": [
    "### Scenariusz 2: wagi eksperckie"
   ]
  },
  {
   "cell_type": "code",
   "execution_count": 46,
   "metadata": {
    "hidden": true
   },
   "outputs": [],
   "source": [
    "codeblock = \"\"\"\n",
    "def compactness(pole_obiektu, obwod_obiektu):\n",
    "    # pole = pi * r**2\n",
    "    # obwod = 2*pi*r\n",
    "    r = obwod_obiektu / (2*math.pi)\n",
    "    pole_kola = math.pi * r**2\n",
    "    c = math.sqrt(pole_obiektu / pole_kola)\n",
    "    return c\n",
    "\"\"\"\n",
    "expression = \"compactness(!Shape_Area!, !Shape_Length!)\"\n",
    "field_name = \"compactness\"\n",
    "ff2_compactness = arcpy.management.CalculateField(ff2_dissolved_duze, field_name, expression, \"PYTHON3\", codeblock)"
   ]
  },
  {
   "cell_type": "code",
   "execution_count": 47,
   "metadata": {
    "hidden": true
   },
   "outputs": [
    {
     "name": "stdout",
     "output_type": "stream",
     "text": [
      "8 0,885187667430222\n"
     ]
    }
   ],
   "source": [
    "# znalezienie najbardziej zwartego obszaru \n",
    "compactness = {key:value for (key, value) in arcpy.da.SearchCursor(ff2_compactness,['OID@','compactness'])}\n",
    "max_oid, max_compactness = max(compactness.items(), key=lambda krotka: krotka[1])\n",
    "print(max_oid, max_compactness)"
   ]
  },
  {
   "cell_type": "code",
   "execution_count": 48,
   "metadata": {
    "hidden": true
   },
   "outputs": [],
   "source": [
    "query = f\"OBJECTID IN ({max_oid})\"\n",
    "ff2_best = arcpy.analysis.Select(ff2_compactness, \"ff2_best\", query)"
   ]
  },
  {
   "cell_type": "markdown",
   "metadata": {
    "heading_collapsed": true
   },
   "source": [
    "# Kryterium 12 - ostateczne v2 - wskazanie optymalnej lokalizacji z wykorzystaniem map kosztów"
   ]
  },
  {
   "cell_type": "markdown",
   "metadata": {
    "hidden": true
   },
   "source": [
    "### Stworzenie mapy kosztów"
   ]
  },
  {
   "cell_type": "code",
   "execution_count": 49,
   "metadata": {
    "hidden": true
   },
   "outputs": [],
   "source": [
    "layers_to_union = list()\n",
    "for filename in os.listdir(folder_bdot):\n",
    "    if os.path.isfile(os.path.join(folder_bdot, filename)):\n",
    "        src = rf\"{folder_bdot}\\{filename}\"\n",
    "        if 'PT' in src and src.endswith('.shp'):\n",
    "            layers_to_union.append(src)\n",
    "#             print(src)"
   ]
  },
  {
   "cell_type": "code",
   "execution_count": 50,
   "metadata": {
    "hidden": true
   },
   "outputs": [],
   "source": [
    "PT_union = arcpy.management.Merge(layers_to_union, \"PT_union\", None, \"NO_SOURCE_INFO\")"
   ]
  },
  {
   "cell_type": "code",
   "execution_count": 51,
   "metadata": {
    "hidden": true
   },
   "outputs": [
    {
     "data": {
      "text/html": [
       "<div class='gpresult'><h2>Messages</h2><div id='messages' data-messages='[\"Start Time: sobota, 14 stycznia 2023 13:17:36\",\"Adding Value_v2 to PT_union...\",\"Succeeded at sobota, 14 stycznia 2023 13:17:36 (Elapsed Time: 0,12 seconds)\"]' data-show='true'><div id = 'default' /></div></div>"
      ],
      "text/plain": [
       "<Result 'C:\\\\SEM5\\\\AP\\\\p1\\\\analiza_hotele\\\\analiza_hotele.gdb\\\\PT_union'>"
      ]
     },
     "execution_count": 51,
     "metadata": {},
     "output_type": "execute_result"
    }
   ],
   "source": [
    "arcpy.management.AddField(PT_union, \"Value_v2\", \"SHORT\", None, None, None, '',\"NULLABLE\", \"NON_REQUIRED\", '')"
   ]
  },
  {
   "cell_type": "code",
   "execution_count": 52,
   "metadata": {
    "hidden": true
   },
   "outputs": [],
   "source": [
    "costs_dict = {\n",
    "\"PTWP01\": 0,\n",
    "\"PTWP02\": 200,\n",
    "\"PTWP03\": 0,\n",
    "\"PTZB01\": 200,\n",
    "\"PTZB02\": 100,\n",
    "\"PTZB03\": 200,\n",
    "\"PTZB04\": 200,\n",
    "\"PTZB05\": 50,\n",
    "\"PTLZ01\": 100,\n",
    "\"PTLZ02\": 50,\n",
    "\"PTLZ03\": 50,\n",
    "\"PTRK\": 15,\n",
    "\"PTRK02\": 15,\n",
    "\"PTUT01\": 0,\n",
    "\"PTUT02\": 90,\n",
    "\"PTUT03\": 100,\n",
    "\"PTUT04\": 20,\n",
    "\"PTUT05\": 20,\n",
    "\"PTTR01\": 20,\n",
    "\"PTTR02\": 1,\n",
    "\"PTKM01\": 100,\n",
    "\"PTKM02\": 200,\n",
    "\"PTKM03\": 170,\n",
    "\"PTKM04\": 200,\n",
    "\"PTGN01\": 1,\n",
    "\"PTGN02\": 1,\n",
    "\"PTGN03\": 1,\n",
    "\"PTGN04\": 1,\n",
    "\"PTPL01\": 50,\n",
    "\"PTSO01\": 0,\n",
    "\"PTSO02\": 0,\n",
    "\"PTWZ01\": 0,\n",
    "\"PTWZ02\": 0,\n",
    "\"PTNZ01\": 150,\n",
    "\"PTNZ02\": 150}"
   ]
  },
  {
   "cell_type": "code",
   "execution_count": 53,
   "metadata": {
    "hidden": true
   },
   "outputs": [],
   "source": [
    "codeblock = \"\"\"\n",
    "def xkod_to_cost(x_kod):\n",
    "    costs_dict = {\n",
    "    \"PTWP01\": 0,\n",
    "    \"PTWP02\": 200,\n",
    "    \"PTWP03\": 0,\n",
    "    \"PTZB01\": 200,\n",
    "    \"PTZB02\": 100,\n",
    "    \"PTZB03\": 200,\n",
    "    \"PTZB04\": 200,\n",
    "    \"PTZB05\": 50,\n",
    "    \"PTLZ01\": 100,\n",
    "    \"PTLZ02\": 50,\n",
    "    \"PTLZ03\": 50,\n",
    "    \"PTRK\": 15,\n",
    "    \"PTRK02\": 15,\n",
    "    \"PTUT01\": 0,\n",
    "    \"PTUT02\": 90,\n",
    "    \"PTUT03\": 100,\n",
    "    \"PTUT04\": 20,\n",
    "    \"PTUT05\": 20,\n",
    "    \"PTTR01\": 20,\n",
    "    \"PTTR02\": 1,\n",
    "    \"PTKM01\": 100,\n",
    "    \"PTKM02\": 200,\n",
    "    \"PTKM03\": 170,\n",
    "    \"PTKM04\": 200,\n",
    "    \"PTGN01\": 1,\n",
    "    \"PTGN02\": 1,\n",
    "    \"PTGN03\": 1,\n",
    "    \"PTGN04\": 1,\n",
    "    \"PTPL01\": 50,\n",
    "    \"PTSO01\": 0,\n",
    "    \"PTSO02\": 0,\n",
    "    \"PTWZ01\": 0,\n",
    "    \"PTWZ02\": 0,\n",
    "    \"PTNZ01\": 150,\n",
    "    \"PTNZ02\": 150\n",
    "    }\n",
    "    cost = costs_dict[x_kod]\n",
    "    return cost\n",
    "\"\"\"\n",
    "expression = \"xkod_to_cost(!X_KOD!)\"\n",
    "field_name = \"Value_v2\"\n",
    "PT_union = arcpy.management.CalculateField(PT_union, field_name, expression, \"PYTHON3\", codeblock)"
   ]
  },
  {
   "cell_type": "code",
   "execution_count": 54,
   "metadata": {
    "hidden": true
   },
   "outputs": [],
   "source": [
    "PT_union_raster = arcpy.conversion.FeatureToRaster(PT_union, \"Value_v2\", \"PT_union_raster\", 1)"
   ]
  },
  {
   "cell_type": "code",
   "execution_count": 55,
   "metadata": {
    "hidden": true
   },
   "outputs": [],
   "source": [
    "mapa_kosztow = arcpy.sa.SetNull(PT_union_raster, PT_union_raster, \"Value = 0\")"
   ]
  },
  {
   "cell_type": "markdown",
   "metadata": {
    "hidden": true
   },
   "source": [
    "### Scenariusz 1: wagi jednakowe"
   ]
  },
  {
   "cell_type": "code",
   "execution_count": 56,
   "metadata": {
    "hidden": true
   },
   "outputs": [],
   "source": [
    "koszty_skumulowane_1 = arcpy.sa.CostDistance(ff1_dissolved_duze, mapa_kosztow, None, \"kierunki\", None, None, None, None, '')"
   ]
  },
  {
   "cell_type": "code",
   "execution_count": 57,
   "metadata": {
    "hidden": true
   },
   "outputs": [],
   "source": [
    "ff1_best_gazociag = arcpy.sa.CostPath(path_gazociag, koszty_skumulowane_1, \"kierunki\", \"BEST_SINGLE\")"
   ]
  },
  {
   "cell_type": "code",
   "execution_count": 58,
   "metadata": {
    "hidden": true
   },
   "outputs": [],
   "source": [
    "# ff1_best_gazociag = arcpy.conversion.RasterToPolygon(ff1_best_gazociag, \"ff1_best_gazociag\", \"SIMPLIFY\", \"Value\", \"SINGLE_OUTER_PART\", None)\n",
    "# ff1_best_cost = arcpy.management.SelectLayerByLocation(ff1_dissolved_duze, \"INTERSECT\", ff1_best_gazociag, None, \"NEW_SELECTION\", \"NOT_INVERT\")\n",
    "# ff1_best_gazociag = arcpy.management.FeatureToLine(ff1_best_gazociag, \"ff1_best_gazociag_line\", None, \"ATTRIBUTES\")"
   ]
  },
  {
   "cell_type": "markdown",
   "metadata": {
    "hidden": true
   },
   "source": [
    "### Scenariusz 2: wagi eksperckie"
   ]
  },
  {
   "cell_type": "code",
   "execution_count": 59,
   "metadata": {
    "hidden": true
   },
   "outputs": [],
   "source": [
    "koszty_skumulowane_2 = arcpy.sa.CostDistance(ff2_dissolved_duze, mapa_kosztow, None, \"kierunki\", None, None, None, None, '')"
   ]
  },
  {
   "cell_type": "code",
   "execution_count": 60,
   "metadata": {
    "hidden": true
   },
   "outputs": [],
   "source": [
    "ff2_best_gazociag = arcpy.sa.CostPath(path_gazociag, koszty_skumulowane_2, \"kierunki\", \"BEST_SINGLE\")"
   ]
  },
  {
   "cell_type": "markdown",
   "metadata": {},
   "source": [
    "# TRASH"
   ]
  },
  {
   "cell_type": "code",
   "execution_count": 61,
   "metadata": {},
   "outputs": [],
   "source": [
    "# ?arcpy.sa.CostPath"
   ]
  },
  {
   "cell_type": "code",
   "execution_count": null,
   "metadata": {},
   "outputs": [],
   "source": []
  }
 ],
 "metadata": {
  "kernelspec": {
   "display_name": "ArcGISPro",
   "language": "Python",
   "name": "python3"
  },
  "language_info": {
   "file_extension": ".py",
   "name": "python",
   "version": "3"
  }
 },
 "nbformat": 4,
 "nbformat_minor": 2
}
