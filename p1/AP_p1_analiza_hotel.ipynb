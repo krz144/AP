{
 "cells": [
  {
   "cell_type": "markdown",
   "metadata": {},
   "source": [
    "# Analizy Przestrzenne 2022Z\n",
    "# Projekt 1: Wskazanie optymalnej lokalizacji inwestycji hotelowej – analizy wielokryterialne\n",
    "dane wejściowe: \n",
    "* BDOT caly\n",
    "* NMT sklejony dla gminy\n",
    "* gazociag\n",
    "* dane glebowo-rolnicze (gleby)\n",
    "* granice gminy\n",
    "\n",
    "dane wyjściowe:\n",
    "* TBA"
   ]
  },
  {
   "cell_type": "markdown",
   "metadata": {},
   "source": [
    "# Import bibliotek, ustawienie środowiska, ustawienie ścieżek do warstw"
   ]
  },
  {
   "cell_type": "code",
   "execution_count": 5,
   "metadata": {},
   "outputs": [],
   "source": [
    "import sys\n",
    "import arcpy\n",
    "import os"
   ]
  },
  {
   "cell_type": "code",
   "execution_count": 6,
   "metadata": {},
   "outputs": [
    {
     "data": {
      "text/plain": [
       "'CheckedOut'"
      ]
     },
     "execution_count": 6,
     "metadata": {},
     "output_type": "execute_result"
    }
   ],
   "source": [
    "# sprawdzanie rozszerzeń\n",
    "# https://pro.arcgis.com/en/pro-app/latest/arcpy/functions/checkextension.htm\n",
    "arcpy.CheckOutExtension(\"Spatial\")\n",
    "arcpy.CheckOutExtension(\"3D\")"
   ]
  },
  {
   "cell_type": "code",
   "execution_count": 7,
   "metadata": {},
   "outputs": [],
   "source": [
    "# nadpisywanie plików - nie działa, bo ESRI...\n",
    "arcpy.env.overwriteOutput = True\n",
    "arcpy.env.addOutputsToMap = True"
   ]
  },
  {
   "cell_type": "code",
   "execution_count": 8,
   "metadata": {},
   "outputs": [],
   "source": [
    "nazwa_gminy = \"Świeradów-Zdrój\"\n",
    "\n",
    "# workspace_path = r\"E:\\DANE\\AF\\311512\\arcgis_testy\\MyProject1\\MyProject1.gdb\"  # gdb\n",
    "# folder_bdot = r\"E:\\DANE\\AF\\311512\\arcgis_testy\\MyProject1\\DANE\\bdot_caly\"\n",
    "# path_nmt = r\"E:\\DANE\\AF\\311512\\arcgis_testy\\MyProject1\\DANE\\nmt_gminy\\nmt_swieradow.tif\"\n",
    "# path_gazociag = r\"E:\\DANE\\AF\\311512\\arcgis_testy\\MyProject1\\DANE\\gazociag\\gazociag.shp\"\n",
    "# path_gleby = r\"E:\\DANE\\AF\\311512\\arcgis_testy\\MyProject1\\DANE\\gleby\\gleby_gm_swieradow.shp\"\n",
    "# path_granice_gminy = r\"E:\\DANE\\AF\\311512\\arcgis_testy\\MyProject1\\DANE\\granice_gminy\\gmina_swieradow.gpkg\\main.gmina_swieradow\"\n",
    "# path_dzialki = r\"E:\\DANE\\AF\\311512\\arcgis_testy\\MyProject1\\DANE\\dzialki_gminy_egib\\dzialki_egib.gpkg\"\n",
    "\n",
    "workspace_path = r\"C:\\SEM5\\AP\\p1\\analiza_hotele\\analiza_hotele.gdb\"  # gdb\n",
    "folder_bdot = r\"C:\\SEM5\\AP\\p1\\DANE\\bdot_caly\"\n",
    "path_nmt = r\"C:\\SEM5\\AP\\p1\\DANE\\nmt_gminy\\nmt_swieradow.tif\"\n",
    "path_gazociag = r\"C:\\SEM5\\AP\\p1\\DANE\\gazociag\\gazociag.shp\"\n",
    "path_gleby = r\"C:\\SEM5\\AP\\p1\\DANE\\gleby\\gleby_gm_swieradow.shp\"\n",
    "path_granice_gminy = r\"C:\\SEM5\\AP\\p1\\DANE\\granice_gminy\\gmina_swieradow.gpkg\\main.gmina_swieradow\"\n",
    "path_dzialki = r\"C:\\SEM5\\AP\\p1\\DANE\\dzialki_gminy_egib\\dzialki_egib.gpkg\"\n",
    "\n",
    "bufor_gminy = arcpy.analysis.Buffer(path_granice_gminy, \"bufor_gminy\", 100)\n"
   ]
  },
  {
   "cell_type": "code",
   "execution_count": 9,
   "metadata": {},
   "outputs": [],
   "source": [
    "# ustawienia środowiska pracy\n",
    "# data paths\n",
    "arcpy.env.workspace = workspace_path  # geodatabase\n",
    "# processing extent\n",
    "arcpy.env.extent = str(bufor_gminy)  # path to bufor_gminy\n",
    "# output coordinate system\n",
    "arcpy.env.outputCoordinateSystem = arcpy.SpatialReference(\"ETRS 1989 Poland CS92\")\n",
    "# cell size\n",
    "arcpy.env.cellSize = 1\n",
    "# nadpisywanie plików\n",
    "arcpy.env.overwriteOutput = True"
   ]
  },
  {
   "cell_type": "markdown",
   "metadata": {},
   "source": [
    "# Ogarnięcie nazw plików z folderu BDOT i zapisanie potrzebnych ścieżek"
   ]
  },
  {
   "cell_type": "code",
   "execution_count": 10,
   "metadata": {
    "scrolled": true
   },
   "outputs": [],
   "source": [
    "# Pozbycie się kropek z nazw plików w folderze bdot_caly\n",
    "\n",
    "bdot = dict()\n",
    "names = {'budynki':'bubd_a', 'drogi':'skdr_l', 'rzeki':'swrs_l', 'jeziora':'ptwp_a', 'lasy':'ptlz_a'}\n",
    "extensions = ('.shp', '.prj', '.xlsx', '.dbf', '.shx', '.cpg')\n",
    "for filename in os.listdir(folder_bdot):\n",
    "    if os.path.isfile(os.path.join(folder_bdot, filename)):\n",
    "        src = rf\"{folder_bdot}\\{filename}\"\n",
    "        if src.endswith(extensions):\n",
    "            if src.count('.') == 4:\n",
    "                for k, v in names.items():\n",
    "                    if v in filename.lower():\n",
    "                        dst = src.replace('.', '', 3)\n",
    "                        os.rename(src, dst)\n",
    "                        if src.endswith('.shp'):\n",
    "                            bdot[k] = dst"
   ]
  },
  {
   "cell_type": "code",
   "execution_count": 11,
   "metadata": {},
   "outputs": [],
   "source": [
    "# Kreacja słownika bdot jesli juz mamy dobre nazwy warstw\n",
    "\n",
    "bdot = dict()\n",
    "names = {'budynki':'bubd_a', 'drogi':'skdr_l', 'rzeki':'swrs_l', 'jeziora':'ptwp_a', 'lasy':'ptlz_a'}\n",
    "extensions = ('.shp', '.prj', '.xlsx', '.dbf', '.shx', '.cpg')\n",
    "for filename in os.listdir(folder_bdot):\n",
    "    if os.path.isfile(os.path.join(folder_bdot, filename)):\n",
    "        src = rf\"{folder_bdot}\\{filename}\"\n",
    "        if src.endswith(extensions):\n",
    "            if src.count('.') == 1:\n",
    "                for key, name in names.items():\n",
    "                    if name in filename.lower() and src.endswith('.shp'):\n",
    "                        bdot[key] = src"
   ]
  },
  {
   "cell_type": "code",
   "execution_count": 12,
   "metadata": {},
   "outputs": [
    {
     "data": {
      "text/plain": [
       "{'budynki': 'C:\\\\SEM5\\\\AP\\\\p1\\\\DANE\\\\bdot_caly\\\\PLPZGiK3370210__OT_BUBD_A.shp', 'lasy': 'C:\\\\SEM5\\\\AP\\\\p1\\\\DANE\\\\bdot_caly\\\\PLPZGiK3370210__OT_PTLZ_A.shp', 'jeziora': 'C:\\\\SEM5\\\\AP\\\\p1\\\\DANE\\\\bdot_caly\\\\PLPZGiK3370210__OT_PTWP_A.shp', 'drogi': 'C:\\\\SEM5\\\\AP\\\\p1\\\\DANE\\\\bdot_caly\\\\PLPZGiK3370210__OT_SKDR_L.shp', 'rzeki': 'C:\\\\SEM5\\\\AP\\\\p1\\\\DANE\\\\bdot_caly\\\\PLPZGiK3370210__OT_SWRS_L.shp'}"
      ]
     },
     "execution_count": 12,
     "metadata": {},
     "output_type": "execute_result"
    }
   ],
   "source": [
    "# bdot = {'budynki': 'C:\\\\SEM5\\\\AP\\\\p1\\\\DANE\\\\bdot_caly\\\\PLPZGiK3370210__OT_BUBD_A.shp', 'lasy': 'C:\\\\SEM5\\\\AP\\\\p1\\\\DANE\\\\bdot_caly\\\\PLPZGiK3370210__OT_PTLZ_A.shp', 'jeziora': 'C:\\\\SEM5\\\\AP\\\\p1\\\\DANE\\\\bdot_caly\\\\PLPZGiK3370210__OT_PTWP_A.shp', 'drogi': 'C:\\\\SEM5\\\\AP\\\\p1\\\\DANE\\\\bdot_caly\\\\PLPZGiK3370210__OT_SKDR_L.shp', 'rzeki': 'C:\\\\SEM5\\\\AP\\\\p1\\\\DANE\\\\bdot_caly\\\\PLPZGiK3370210__OT_SWRS_L.shp'}\n",
    "bdot"
   ]
  },
  {
   "cell_type": "markdown",
   "metadata": {
    "heading_collapsed": true
   },
   "source": [
    "# Kryterium 1 - odległość od konkurencji minimum 400m"
   ]
  },
  {
   "cell_type": "code",
   "execution_count": 13,
   "metadata": {
    "hidden": true
   },
   "outputs": [],
   "source": [
    "query = \"FUNSZCZ LIKE '%hotel%' OR FUNSZCZ LIKE '%motel%' OR FUNSZCZ LIKE '%pensjonat%' OR FUNSZCZ LIKE '%domWypoczynkowy%'\"\n",
    "hotele = arcpy.analysis.Select(bdot['budynki'], \"hotele\", query)\n",
    "ed = arcpy.sa.EucDistance(hotele)\n",
    "minimum = 400 # 400\n",
    "maximum = 800 # 800\n",
    "\n",
    "k1 = arcpy.sa.FuzzyMembership(ed, arcpy.sa.FuzzyLinear(minimum, maximum))"
   ]
  },
  {
   "cell_type": "markdown",
   "metadata": {
    "heading_collapsed": true
   },
   "source": [
    "# Kryterium 2 - odległość od budynków mieszkalnych od 25 do 150m"
   ]
  },
  {
   "cell_type": "code",
   "execution_count": 14,
   "metadata": {
    "hidden": true
   },
   "outputs": [],
   "source": [
    "query = \"FUNOGBUD LIKE '%miesz%' OR FUNOGBUD LIKE '%Miesz%'\"  # 1036\n",
    "mieszkalne = arcpy.analysis.Select(bdot['budynki'], \"mieszkalne\", query)\n",
    "ed = arcpy.sa.EucDistance(mieszkalne)\n",
    "minimum = 25 # 25\n",
    "maximum = 50 # 50\n",
    "fuzzy1 = arcpy.sa.FuzzyMembership(ed, arcpy.sa.FuzzyLinear(minimum, maximum))\n",
    "minimum = 150 # 150\n",
    "maximum = 125 # 125\n",
    "fuzzy2 = arcpy.sa.FuzzyMembership(ed, arcpy.sa.FuzzyLinear(minimum, maximum))\n",
    "\n",
    "k2 = arcpy.sa.Times(fuzzy1, fuzzy2)"
   ]
  },
  {
   "cell_type": "markdown",
   "metadata": {
    "heading_collapsed": true
   },
   "source": [
    "# Kryterium 3 - odległość od istniejących dróg od 15 do 100m"
   ]
  },
  {
   "cell_type": "code",
   "execution_count": 15,
   "metadata": {
    "hidden": true
   },
   "outputs": [],
   "source": [
    "drogi = bdot['drogi']\n",
    "ed = arcpy.sa.EucDistance(drogi)\n",
    "minimum = 15 # 15\n",
    "maximum = 20 # 20\n",
    "fuzzy1 = arcpy.sa.FuzzyMembership(ed, arcpy.sa.FuzzyLinear(minimum, maximum))\n",
    "minimum = 200 # 200\n",
    "maximum = 100 # 100\n",
    "fuzzy2 = arcpy.sa.FuzzyMembership(ed, arcpy.sa.FuzzyLinear(minimum, maximum))\n",
    "\n",
    "k3 = arcpy.sa.Times(fuzzy1, fuzzy2)"
   ]
  },
  {
   "cell_type": "markdown",
   "metadata": {
    "heading_collapsed": true
   },
   "source": [
    "# Kryterium 4 - odległość od rzek i zbiorników wodnych nieprzekraczalna strefa ochronna poniżej 20m"
   ]
  },
  {
   "cell_type": "code",
   "execution_count": 16,
   "metadata": {
    "hidden": true
   },
   "outputs": [],
   "source": [
    "query = \"X_KOD='SWRS01' OR X_KOD='SWRS02'\"\n",
    "rzeki = arcpy.analysis.Select(bdot['rzeki'], 'rzeki', query)\n",
    "bufor_rzeki = arcpy.analysis.Buffer(rzeki, 'bufor_rzeki', 0.5)\n",
    "jeziora = bdot['jeziora']\n",
    "wody = arcpy.management.Merge([bufor_rzeki, jeziora], 'wody')\n",
    "ed = arcpy.sa.EucDistance(wody)\n",
    "minimum = 20 # 20\n",
    "maximum = 20.001 # 25 20.001\n",
    "fuzzy1 = arcpy.sa.FuzzyMembership(ed, arcpy.sa.FuzzyLinear(minimum, maximum))\n",
    "minimum = 1000 # 1000\n",
    "maximum = 100 # 100\n",
    "fuzzy2 = arcpy.sa.FuzzyMembership(ed, arcpy.sa.FuzzyLinear(minimum, maximum))\n",
    "\n",
    "k4 = arcpy.sa.Times(fuzzy1, fuzzy2)"
   ]
  },
  {
   "cell_type": "markdown",
   "metadata": {
    "heading_collapsed": true
   },
   "source": [
    "# Kryterium 5 - pokrycie terenu nie w lesie"
   ]
  },
  {
   "cell_type": "code",
   "execution_count": 17,
   "metadata": {
    "hidden": true
   },
   "outputs": [],
   "source": [
    "lasy_raster = arcpy.conversion.FeatureToRaster(bdot['lasy'], \"RODZAJ\", 'lasy_raster')\n",
    "\n",
    "k5 = arcpy.sa.Reclassify(lasy_raster, \"RODZAJ\", arcpy.sa.RemapValue([[\"las\", 0], [\"zadrzewienie\", 1],[\"zagajnik\", 0], [\"NODATA\", 1]]))"
   ]
  },
  {
   "cell_type": "markdown",
   "metadata": {
    "heading_collapsed": true
   },
   "source": [
    "# Kryterium 6 - nachylenie stoków maksymalnie 20%"
   ]
  },
  {
   "cell_type": "code",
   "execution_count": 18,
   "metadata": {
    "hidden": true
   },
   "outputs": [],
   "source": [
    "slope_perc = arcpy.sa.Slope(path_nmt, \"PERCENT_RISE\", 1, \"PLANAR\", \"METER\")\n",
    "minimum = 20 # 20\n",
    "maximum = 5 # 5\n",
    "\n",
    "k6 = arcpy.sa.FuzzyMembership(slope_perc, arcpy.sa.FuzzyLinear(minimum, maximum))"
   ]
  },
  {
   "cell_type": "markdown",
   "metadata": {
    "heading_collapsed": true
   },
   "source": [
    "# Kryterium 7 - dostęp światła słonecznego stoki południowe (SW-SE)"
   ]
  },
  {
   "cell_type": "code",
   "execution_count": 19,
   "metadata": {
    "hidden": true
   },
   "outputs": [],
   "source": [
    "aspect = arcpy.sa.Aspect(path_nmt)\n",
    "minimum = 110 # 110\n",
    "maximum = 155 # 155\n",
    "fuzzy1 = arcpy.sa.FuzzyMembership(aspect, arcpy.sa.FuzzyLinear(minimum, maximum))\n",
    "minimum = 250 # 250 \n",
    "maximum = 205 # 205\n",
    "fuzzy2 = arcpy.sa.FuzzyMembership(aspect, arcpy.sa.FuzzyLinear(minimum, maximum))\n",
    "\n",
    "k7 = arcpy.sa.Times(fuzzy1, fuzzy2)\n",
    "k7 = arcpy.sa.Con(k7, 1, k7, \"VALUE = -1\")"
   ]
  },
  {
   "cell_type": "markdown",
   "metadata": {
    "heading_collapsed": true
   },
   "source": [
    "# Kryterium 8 - poza strefą ochronną gazociągu minimum 25m"
   ]
  },
  {
   "cell_type": "code",
   "execution_count": 20,
   "metadata": {
    "hidden": true
   },
   "outputs": [],
   "source": [
    "ed = arcpy.sa.EucDistance(path_gazociag)\n",
    "minimum = 25 # 25\n",
    "maximum = 25.001 # 26 25.001\n",
    "fuzzy1 = arcpy.sa.FuzzyMembership(ed, arcpy.sa.FuzzyLinear(minimum, maximum))\n",
    "minimum = 1000 # 1000\n",
    "maximum = 100  # 100\n",
    "fuzzy2 = arcpy.sa.FuzzyMembership(ed, arcpy.sa.FuzzyLinear(minimum, maximum))\n",
    "\n",
    "k8 = arcpy.sa.Times(fuzzy1, fuzzy2)"
   ]
  },
  {
   "cell_type": "markdown",
   "metadata": {
    "heading_collapsed": true
   },
   "source": [
    "# Kryterium 9 - użytkowanie terenu - przydatne gleby"
   ]
  },
  {
   "cell_type": "code",
   "execution_count": 33,
   "metadata": {
    "hidden": true
   },
   "outputs": [],
   "source": [
    "codeblock = \"\"\"\n",
    "def is_useful(string):\n",
    "    if string in ['G','E','M','T','F','Fb','Fc','FG']:\n",
    "        return \"NIE\"  # 0\n",
    "    return \"TAK\"  # 1\n",
    "\"\"\"\n",
    "expression = \"is_useful(!TYP!)\"\n",
    "field_name = \"przydatne\"\n",
    "gleby = arcpy.management.CalculateField(path_gleby, field_name, expression,\"PYTHON3\", codeblock)\n",
    "\n",
    "k9 = arcpy.conversion.FeatureToRaster(gleby, \"przydatne\", \"k9\")\n",
    "k9 = arcpy.sa.Reclassify(k9, \"przydatne\", arcpy.sa.RemapValue([[\"NIE\", 0], [\"TAK\", 1]]))"
   ]
  },
  {
   "cell_type": "markdown",
   "metadata": {},
   "source": [
    "# Łączenie kryteriów"
   ]
  },
  {
   "cell_type": "markdown",
   "metadata": {
    "heading_collapsed": true
   },
   "source": [
    "### Zrobienie kryteriów ostrych ze stref ochronnych wodociągu i wód"
   ]
  },
  {
   "cell_type": "code",
   "execution_count": 34,
   "metadata": {
    "hidden": true
   },
   "outputs": [],
   "source": [
    "# 2 + 2 = 4 (5) ostrych (lasy, gleby i dodatkowo strefy ochronne wód i gazociągu)\n",
    "# Weighted sum do fuzzy 7/8 k1 k2 k3 k4 k6 k7 k8\n",
    "# Fuzzy overlay do ostrych 4/5 k5 k9 k4_ostre k8_ostre\n",
    "# i potem mnozymy funkcją Times\n",
    "# lub Raster Calculator\n",
    "# dwa scenariusze - jednakowe wagi i wagi eksperckie"
   ]
  },
  {
   "cell_type": "code",
   "execution_count": 35,
   "metadata": {
    "hidden": true
   },
   "outputs": [],
   "source": [
    "ed = arcpy.sa.EucDistance(wody)\n",
    "k4_ostre = arcpy.sa.Con(ed, 1, 0, \"VALUE > 20\")"
   ]
  },
  {
   "cell_type": "code",
   "execution_count": 36,
   "metadata": {
    "hidden": true
   },
   "outputs": [],
   "source": [
    "ed = arcpy.sa.EucDistance(path_gazociag)\n",
    "k8_ostre = arcpy.sa.Con(ed, 1, 0, \"VALUE > 25\")"
   ]
  },
  {
   "cell_type": "markdown",
   "metadata": {},
   "source": [
    "### Scenariusz 1: wagi jednakowe"
   ]
  },
  {
   "cell_type": "code",
   "execution_count": 49,
   "metadata": {},
   "outputs": [],
   "source": [
    "wstable_1 = arcpy.sa.WSTable([[k1,\"VALUE\",0.1428],[k2,\"VALUE\",0.1428],[k3,\"VALUE\",0.1428],[k4,\"VALUE\",0.1428],[k6,\"VALUE\",0.1428],[k7,\"VALUE\",0.1428],[k8,\"VALUE\",0.1432]])\n",
    "joined_fuzzy_1 = arcpy.sa.WeightedSum(wstable_1)"
   ]
  },
  {
   "cell_type": "code",
   "execution_count": 50,
   "metadata": {},
   "outputs": [],
   "source": [
    "fo_ostre = arcpy.sa.FuzzyOverlay([k5, k9, k4_ostre, k8_ostre], \"AND\")  # \"AND\""
   ]
  },
  {
   "cell_type": "code",
   "execution_count": 51,
   "metadata": {},
   "outputs": [],
   "source": [
    "final_fuzzy_1 = arcpy.sa.Times(joined_fuzzy_1, fo_ostre)"
   ]
  },
  {
   "cell_type": "code",
   "execution_count": 57,
   "metadata": {},
   "outputs": [],
   "source": [
    "ff1_reclass = arcpy.sa.Con(final_fuzzy_1, 1, 0, \"VALUE > 0.5\")  # VALUE > 0.7"
   ]
  },
  {
   "cell_type": "markdown",
   "metadata": {},
   "source": [
    "### Scenariusz 2: wagi eksperckie"
   ]
  },
  {
   "cell_type": "markdown",
   "metadata": {},
   "source": [
    "* Kryterium 1 - ```0.2``` - odległość od konkurencji minimum 400m\n",
    "* Kryterium 2 - ```0.05``` - odległość od budynków mieszkalnych od 25 do 150m\n",
    "* Kryterium 3 - ```0.05``` - odległość od istniejących dróg od 15 do 100m\n",
    "* Kryterium 4 - ```0.2``` - odległość od rzek i zbiorników wodnych\n",
    "* Kryterium 6 - ```0.15``` - nachylenie stoków maksymalnie 20%\n",
    "* Kryterium 7 - ```0.3``` - dostęp światła słonecznego stoki południowe (SW-SE)\n",
    "* Kryterium 8 - ```0.05``` - odległość od gazociągu"
   ]
  },
  {
   "cell_type": "code",
   "execution_count": 53,
   "metadata": {},
   "outputs": [],
   "source": [
    "wstable_2 = arcpy.sa.WSTable([[k1,\"VALUE\",0.2],[k2,\"VALUE\",0.05],[k3,\"VALUE\",0.05],[k4,\"VALUE\",0.2],[k6,\"VALUE\",0.15],[k7,\"VALUE\",0.3],[k8,\"VALUE\",0.05]])\n",
    "joined_fuzzy_2 = arcpy.sa.WeightedSum(wstable_2)"
   ]
  },
  {
   "cell_type": "code",
   "execution_count": 54,
   "metadata": {},
   "outputs": [],
   "source": [
    "fo_ostre = arcpy.sa.FuzzyOverlay([k5, k9, k4_ostre, k8_ostre], \"AND\")  # \"AND\""
   ]
  },
  {
   "cell_type": "code",
   "execution_count": 55,
   "metadata": {},
   "outputs": [],
   "source": [
    "final_fuzzy_2 = arcpy.sa.Times(joined_fuzzy_2, fo_ostre)"
   ]
  },
  {
   "cell_type": "code",
   "execution_count": 58,
   "metadata": {},
   "outputs": [],
   "source": [
    "ff2_reclass = arcpy.sa.Con(final_fuzzy_2, 1, 0, \"VALUE > 0.5\")  # VALUE > 0.7"
   ]
  },
  {
   "cell_type": "markdown",
   "metadata": {},
   "source": [
    "# Kryterium 10 - przydatne działki obszary 1-6ha"
   ]
  },
  {
   "cell_type": "code",
   "execution_count": null,
   "metadata": {},
   "outputs": [],
   "source": []
  },
  {
   "cell_type": "markdown",
   "metadata": {},
   "source": [
    "# Kryterium 11 - kształt obszaru jak najbardziej zwarty"
   ]
  },
  {
   "cell_type": "code",
   "execution_count": null,
   "metadata": {},
   "outputs": [],
   "source": []
  },
  {
   "cell_type": "markdown",
   "metadata": {},
   "source": [
    "# Cośtam z mapą kosztów"
   ]
  },
  {
   "cell_type": "code",
   "execution_count": 60,
   "metadata": {},
   "outputs": [],
   "source": [
    "costs_dict = {\n",
    "\"PTWP01\": 0,\n",
    "\"PTWP02\": 200,\n",
    "\"PTWP03\": \"0 NoData\",\n",
    "\"PTZB01\": 200,\n",
    "\"PTZB02\": 100,\n",
    "\"PTZB03\": 200,\n",
    "\"PTZB04\": 200,\n",
    "\"PTZB05\": 50,\n",
    "\"PTLZ01\": 100,\n",
    "\"PTLZ02\": 50,\n",
    "\"PTLZ03\": 50,\n",
    "\"PTRK\": 15,\n",
    "\"PTRK02\": 15,\n",
    "\"PTUT01\": \"0 NoData\",\n",
    "\"PTUT02\": 90,\n",
    "\"PTUT03\": 100,\n",
    "\"PTUT04\": 20,\n",
    "\"PTUT05\": 20,\n",
    "\"PTTR01\": 20,\n",
    "\"PTTR02\": 1,\n",
    "\"PTKM01\": 100,\n",
    "\"PTKM02\": 200,\n",
    "\"PTKM03\": 170,\n",
    "\"PTKM04\": 200,\n",
    "\"PTGN01\": 1,\n",
    "\"PTGN02\": 1,\n",
    "\"PTGN03\": 1,\n",
    "\"PTGN04\": 1,\n",
    "\"PTPL01\": 50,\n",
    "\"PTSO01\": \"0 NoData\",\n",
    "\"PTSO02\": \"0 NoData\",\n",
    "\"PTWZ01\": \"0 NoData\",\n",
    "\"PTWZ02\": \"0 NoData\",\n",
    "\"PTNZ01\": 150,\n",
    "\"PTNZ02\": 150}"
   ]
  },
  {
   "cell_type": "markdown",
   "metadata": {},
   "source": [
    "# TRASH"
   ]
  },
  {
   "cell_type": "code",
   "execution_count": 26,
   "metadata": {},
   "outputs": [],
   "source": [
    "# ?arcpy.analysis.Select"
   ]
  },
  {
   "cell_type": "code",
   "execution_count": 27,
   "metadata": {},
   "outputs": [],
   "source": [
    "# arcpy.Describe(bufor_gminy)"
   ]
  },
  {
   "cell_type": "code",
   "execution_count": 28,
   "metadata": {},
   "outputs": [],
   "source": [
    "# # TYLKO RAZ - pozbycie się kropek z nazw plików w folderze bdot_caly\n",
    "# bdot = dict()\n",
    "# extensions = ('.shp', '.prj', '.xlsx', '.dbf', '.shx', '.cpg')\n",
    "# for filename in os.listdir(folder_bdot):\n",
    "#     if os.path.isfile(os.path.join(folder_bdot, filename)):\n",
    "#         src = rf\"{folder_bdot}\\{filename}\"\n",
    "#         if src.endswith(extensions):\n",
    "#             if src.count('.') == 4:\n",
    "#                 if \"bubd_a\" in filename.lower():\n",
    "#                     dst = src.replace('.', '', 3)\n",
    "#                     os.rename(src, dst)\n",
    "#                     if src.endswith('.shp'):\n",
    "#                         bdot['budynki'] = dst\n",
    "#                 if \"skdr_l\" in filename.lower():\n",
    "#                     dst = src.replace('.', '', 3)\n",
    "#                     os.rename(src, dst)\n",
    "#                     if src.endswith('.shp'):\n",
    "#                         bdot['drogi'] = dst\n",
    "#                 if \"swrs_l\" in filename.lower():\n",
    "#                     dst = src.replace('.', '', 3)\n",
    "#                     os.rename(src, dst)\n",
    "#                     if src.endswith('.shp'):\n",
    "#                         bdot['rzeki'] = dst\n",
    "#                 if \"ptwp_a\" in filename.lower():\n",
    "#                     dst = src.replace('.', '', 3)\n",
    "#                     os.rename(src, dst)\n",
    "#                     if src.endswith('.shp'):\n",
    "#                         bdot['jeziora'] = dst\n",
    "#                 if \"ptlz_a\" in filename.lower():\n",
    "#                     dst = src.replace('.', '', 3)\n",
    "#                     os.rename(src, dst)\n",
    "#                     if src.endswith('.shp'):\n",
    "#                         bdot['lasy'] = dst"
   ]
  }
 ],
 "metadata": {
  "kernelspec": {
   "display_name": "ArcGISPro",
   "language": "Python",
   "name": "python3"
  },
  "language_info": {
   "file_extension": ".py",
   "name": "python",
   "version": "3"
  }
 },
 "nbformat": 4,
 "nbformat_minor": 2
}
